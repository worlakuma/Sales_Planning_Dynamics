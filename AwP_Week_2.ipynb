{
 "cells": [
  {
   "cell_type": "code",
   "execution_count": 2,
   "metadata": {},
   "outputs": [
    {
     "data": {
      "text/plain": [
       "[250, 200, 400, 100]"
      ]
     },
     "execution_count": 2,
     "metadata": {},
     "output_type": "execute_result"
    }
   ],
   "source": [
    "sales_quantity = []\n",
    "\n",
    "initial_stock_level = int(input(\"Enter Initial Stock Level for the Product: \"))\n",
    "months = int(input(\" Number of Months to Plan: \"))\n",
    "for i in range(months):\n",
    "    sales = int(input(f\"Enter the Planned Sales Quantity For Month{i + 1} : \"))\n",
    "    sales_quantity.append(sales)\n",
    "\n",
    "sales_1 = sales_quantity[0]\n",
    "\n",
    "sales_quantity.remove(sales_quantity[0])\n",
    "sales_quantity"
   ]
  },
  {
   "cell_type": "code",
   "execution_count": 6,
   "metadata": {},
   "outputs": [
    {
     "name": "stdout",
     "output_type": "stream",
     "text": [
      "Production Quantity For Month 1:= 0 New Stock Level := 200\n",
      "Production Quantity For Month 2:= 50 New Stock Level 2:= 0\n",
      "Production Quantity For Month 3:= 200 New Stock Level 3:= 0\n",
      "Production Quantity For Month 4:= 400 New Stock Level 4:= 0\n",
      "Production Quantity For Month 5:= 100 New Stock Level 5:= 0\n"
     ]
    }
   ],
   "source": [
    "stock_balance = initial_stock_level - sales_1\n",
    "if sales_1 < initial_stock_level:\n",
    "    production_quantity_1 = 0\n",
    "    stock_balance = initial_stock_level - sales_1\n",
    "    print(f\"Production Quantity For Month 1:=\", production_quantity_1, \"New Stock Level :=\", stock_balance)\n",
    "else:\n",
    "     production_quantity_2 = sales_1 - stock_balance \n",
    "     stock_balance = stock_balance + production_quantity_2 - sales_1\n",
    "     print(f\"Production Quantity For Month 1 :=\", production_quantity_2, \"New Stock Level :=\", stock_balance)\n",
    "    \n",
    "for index, sale in enumerate(sales_quantity):\n",
    "    if sale < stock_balance:\n",
    "        production_quantity_1 = 0\n",
    "        stock_balance = stock_balance - sale\n",
    "        print(f\"Production Quantity For Month {index + 2 }:=\", production_quantity_1, f\"New Stock Level {index + 2}:=\", stock_balance)\n",
    "\n",
    "    elif sale > stock_balance:\n",
    "        production_quantity_2 = sale - stock_balance\n",
    "        stock_balance = stock_balance + production_quantity_2 - sale\n",
    "        print(f\"Production Quantity For Month {index + 2 }:=\", production_quantity_2, f\"New Stock Level {index + 2}:=\", stock_balance)  \n",
    "   "
   ]
  }
 ],
 "metadata": {
  "kernelspec": {
   "display_name": "Python 3",
   "language": "python",
   "name": "python3"
  },
  "language_info": {
   "codemirror_mode": {
    "name": "ipython",
    "version": 3
   },
   "file_extension": ".py",
   "mimetype": "text/x-python",
   "name": "python",
   "nbconvert_exporter": "python",
   "pygments_lexer": "ipython3",
   "version": "3.12.2"
  }
 },
 "nbformat": 4,
 "nbformat_minor": 2
}
